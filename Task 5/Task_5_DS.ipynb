{
 "cells": [
  {
   "cell_type": "code",
   "execution_count": null,
   "id": "9a845eee-4b79-4e87-a4a7-e31261fe80b0",
   "metadata": {},
   "outputs": [],
   "source": [
    "import numpy as np\n",
    "import pandas as pd\n",
    "import matplotlib.pyplot as plt\n",
    "import seaborn as sns\n",
    "import missingno as mn\n",
    "import plotly.graph_objects as go"
   ]
  },
  {
   "cell_type": "code",
   "execution_count": null,
   "id": "264d3004-f849-4a47-a79d-29fcf2d1b065",
   "metadata": {},
   "outputs": [],
   "source": [
    "from matplotlib.ticker import FuncFormatter\n",
    "import matplotlib.ticker as ticker\n",
    "import matplotlib.patches as mpatches\n",
    "import matplotlib.patheffects as PathEffects\n",
    "%matplotlib inline\n",
    "\n",
    "\n",
    "import calendar\n",
    "import plotly as pt\n",
    "from plotly import graph_objs as go\n",
    "import plotly.express as px\n",
    "import plotly.figure_factory as ff\n",
    "from pylab import *\n",
    "\n",
    "import plotly.graph_objects as go\n",
    "from nltk.corpus import stopwords\n",
    "\n",
    "import geopandas as gpd\n",
    "import geoplot\n",
    "from geopy.geocoders import Nominatim\n",
    "\n",
    "import warnings\n",
    "warnings.filterwarnings('ignore')\n"
   ]
  },
  {
   "cell_type": "code",
   "execution_count": null,
   "id": "f5090d1d-3d78-486f-9a42-d7479f3a7939",
   "metadata": {},
   "outputs": [],
   "source": [
    "import pandas as pd"
   ]
  },
  {
   "cell_type": "code",
   "execution_count": null,
   "id": "daa7db06-4511-4d09-bfb0-4da917414957",
   "metadata": {},
   "outputs": [],
   "source": [
    "data_filepath = \"C:/Users/kalai/OneDrive/Desktop/Task 5/US_Accidents_March23.csv\""
   ]
  },
  {
   "cell_type": "code",
   "execution_count": null,
   "id": "3025d580-aa0e-4987-ac79-e35a08c9882d",
   "metadata": {},
   "outputs": [],
   "source": [
    "df = pd.read_csv(data_filepath)\n",
    "df.head(10)"
   ]
  },
  {
   "cell_type": "code",
   "execution_count": null,
   "id": "0014db0f-b44c-4543-a1d2-15dcca8478a7",
   "metadata": {},
   "outputs": [],
   "source": [
    "df.columns"
   ]
  },
  {
   "cell_type": "code",
   "execution_count": null,
   "id": "ff396531-980e-4534-8d70-7cdd362b0f28",
   "metadata": {},
   "outputs": [],
   "source": [
    "print(\"No. of columns:\",len(df.columns))\n",
    "print(\"No. of rows:\",len(df))"
   ]
  },
  {
   "cell_type": "code",
   "execution_count": null,
   "id": "9612904c-843f-4f2a-a218-5d86204003e8",
   "metadata": {},
   "outputs": [],
   "source": [
    "df.info()"
   ]
  },
  {
   "cell_type": "code",
   "execution_count": null,
   "id": "c73e017f-4658-4af6-9c9f-8bc345a5f184",
   "metadata": {},
   "outputs": [],
   "source": [
    "df.describe()"
   ]
  },
  {
   "cell_type": "code",
   "execution_count": null,
   "id": "5918f1b9-7d55-4f41-85f9-bfddc1dca508",
   "metadata": {},
   "outputs": [],
   "source": [
    "len(df.select_dtypes(['int64','float64']).columns)"
   ]
  },
  {
   "cell_type": "code",
   "execution_count": null,
   "id": "1fa0a013-aabd-4400-ad6f-2a44bc6b6af3",
   "metadata": {},
   "outputs": [],
   "source": [
    "df.isnull().sum()"
   ]
  },
  {
   "cell_type": "code",
   "execution_count": null,
   "id": "0813f29d-34ae-4293-a2fe-a3e17a8cded1",
   "metadata": {},
   "outputs": [],
   "source": [
    "df.isna().sum()"
   ]
  },
  {
   "cell_type": "code",
   "execution_count": null,
   "id": "d5f6b911-8264-4eb6-bd9d-8a3961366e94",
   "metadata": {},
   "outputs": [],
   "source": [
    "df.isna().sum().sort_values(ascending=False)*100. / len(df)"
   ]
  },
  {
   "cell_type": "code",
   "execution_count": null,
   "id": "f9bc8f50-0060-4094-b374-49fe760cff38",
   "metadata": {},
   "outputs": [],
   "source": [
    "missing_data = df.isna().sum().sort_values(ascending=False) * 100. / len(df)"
   ]
  },
  {
   "cell_type": "code",
   "execution_count": null,
   "id": "c0419d0d-884c-429c-ba3e-ca62b75e4ab8",
   "metadata": {},
   "outputs": [],
   "source": [
    "type(missing_data)"
   ]
  },
  {
   "cell_type": "code",
   "execution_count": null,
   "id": "c145017a-b5e3-45ac-bfc9-d1acf8bb009c",
   "metadata": {},
   "outputs": [],
   "source": [
    "missing_data.plot(kind='bar')"
   ]
  },
  {
   "cell_type": "code",
   "execution_count": null,
   "id": "3ccb7588-16c6-4e39-a296-fef0bca4eaec",
   "metadata": {},
   "outputs": [],
   "source": [
    "missing_data[missing_data!=0].plot(kind='barh')"
   ]
  },
  {
   "cell_type": "code",
   "execution_count": null,
   "id": "a256f73a-bd71-4c15-968f-56aa20b623ec",
   "metadata": {},
   "outputs": [],
   "source": [
    "df.columns"
   ]
  },
  {
   "cell_type": "code",
   "execution_count": null,
   "id": "b892dadb-ea40-4fad-9e1c-9305ee4341e3",
   "metadata": {},
   "outputs": [],
   "source": [
    "df.City.unique()"
   ]
  },
  {
   "cell_type": "code",
   "execution_count": null,
   "id": "0dea12af-cc1c-4901-9d26-a3e53fbf0aae",
   "metadata": {},
   "outputs": [],
   "source": [
    "cities = df.City.unique()\n",
    "len(cities)"
   ]
  },
  {
   "cell_type": "code",
   "execution_count": null,
   "id": "6e6603c1-4fd5-43d5-a9a2-4929ffc2314c",
   "metadata": {},
   "outputs": [],
   "source": [
    "cities_by_accident = df.City.value_counts()\n",
    "cities_by_accident[:20]"
   ]
  },
  {
   "cell_type": "code",
   "execution_count": null,
   "id": "fd4e53cc-2ea5-4091-b9e5-5c7a7d99af94",
   "metadata": {},
   "outputs": [],
   "source": [
    "'New York' in cities"
   ]
  },
  {
   "cell_type": "code",
   "execution_count": null,
   "id": "8f27dfb8-e629-46d0-9504-3f99f9234224",
   "metadata": {},
   "outputs": [],
   "source": [
    "cities_by_accident[\"New York\"]"
   ]
  },
  {
   "cell_type": "code",
   "execution_count": null,
   "id": "e01d0fa3-1860-485c-8fac-f365aa036a4f",
   "metadata": {},
   "outputs": [],
   "source": [
    "cities_by_accident[:20].plot(kind='barh')"
   ]
  },
  {
   "cell_type": "code",
   "execution_count": null,
   "id": "91b04caf-f197-4c6b-9b38-9b5a7a38a032",
   "metadata": {},
   "outputs": [],
   "source": [
    "import seaborn as sns\n",
    "sns.set_style(\"darkgrid\")"
   ]
  },
  {
   "cell_type": "code",
   "execution_count": null,
   "id": "cafad1be-02ed-437c-9f53-6e1517c44ef9",
   "metadata": {},
   "outputs": [],
   "source": [
    "sns.distplot(cities_by_accident)"
   ]
  },
  {
   "cell_type": "code",
   "execution_count": null,
   "id": "93f4ddf9-0257-4d44-a45e-7c6612e12cdc",
   "metadata": {},
   "outputs": [],
   "source": [
    "high_accident_cities = cities_by_accident[cities_by_accident >=1000]\n",
    "low_accident_cities = cities_by_accident[cities_by_accident < 1000]"
   ]
  },
  {
   "cell_type": "code",
   "execution_count": null,
   "id": "aaf0f109-3170-4582-bb93-55bba84d47ec",
   "metadata": {},
   "outputs": [],
   "source": [
    "len(high_accident_cities) / len(cities_by_accident)"
   ]
  },
  {
   "cell_type": "code",
   "execution_count": null,
   "id": "ae5094ad-0561-4d61-aae7-9260e4343020",
   "metadata": {},
   "outputs": [],
   "source": [
    "sns.distplot(high_accident_cities)"
   ]
  },
  {
   "cell_type": "code",
   "execution_count": null,
   "id": "62854831-c369-4a86-a8d1-179b8bfa9d45",
   "metadata": {},
   "outputs": [],
   "source": [
    "sns.distplot(low_accident_cities)"
   ]
  },
  {
   "cell_type": "code",
   "execution_count": null,
   "id": "d2890578-d5f0-4ec2-b12a-0963d0f61a1c",
   "metadata": {},
   "outputs": [],
   "source": [
    "sns.histplot(low_accident_cities, log_scale=True)"
   ]
  },
  {
   "cell_type": "code",
   "execution_count": null,
   "id": "7f7b1c70-e12c-45f6-b178-1ecd8afa902a",
   "metadata": {},
   "outputs": [],
   "source": [
    "sns.histplot(high_accident_cities, log_scale=True)"
   ]
  },
  {
   "cell_type": "code",
   "execution_count": null,
   "id": "956e5c67-5337-4e17-b463-3a0719cc0455",
   "metadata": {},
   "outputs": [],
   "source": [
    "cities_by_accident[cities_by_accident == 1]"
   ]
  },
  {
   "cell_type": "code",
   "execution_count": null,
   "id": "23ba3a6e-52e4-4b28-998d-a207191a5680",
   "metadata": {},
   "outputs": [],
   "source": [
    "df.Start_Time[0]"
   ]
  },
  {
   "cell_type": "code",
   "execution_count": null,
   "id": "049c3f26-36d1-48d2-a336-91c4fe844958",
   "metadata": {},
   "outputs": [],
   "source": [
    "df['Start_Time'] = pd.to_datetime(df['Start_Time'], errors='coerce')\n"
   ]
  },
  {
   "cell_type": "code",
   "execution_count": null,
   "id": "07de01e8-0219-4e0c-9011-8bfc06e945aa",
   "metadata": {},
   "outputs": [],
   "source": [
    "df.Start_Time[0]"
   ]
  },
  {
   "cell_type": "code",
   "execution_count": null,
   "id": "5b572a7f-6b52-459b-bb9f-5f719f80c6e0",
   "metadata": {},
   "outputs": [],
   "source": [
    "df.Start_Time[0].day, df.Start_Time[0].month,df.Start_Time[0].year,df.Start_Time[0].hour,df.Start_Time[0].minute,df.Start_Time[0].second"
   ]
  },
  {
   "cell_type": "code",
   "execution_count": null,
   "id": "6c2ef0f8-d280-4dcf-bb60-a91d396a6614",
   "metadata": {},
   "outputs": [],
   "source": [
    "df.Start_Time.dt.hour"
   ]
  },
  {
   "cell_type": "code",
   "execution_count": null,
   "id": "b7f6be69-5b1c-4412-b1db-9e58f0282f62",
   "metadata": {},
   "outputs": [],
   "source": [
    "sns.histplot(df.Start_Time.dt.hour, bins=24)"
   ]
  },
  {
   "cell_type": "code",
   "execution_count": null,
   "id": "2f3d52e7-a78a-4dbc-8150-35d294008de0",
   "metadata": {},
   "outputs": [],
   "source": [
    "sns.histplot(df.Start_Time.dt.hour, bins=24,stat='density')"
   ]
  },
  {
   "cell_type": "code",
   "execution_count": null,
   "id": "33e5493f-7d17-449b-bd2c-75b44b942917",
   "metadata": {},
   "outputs": [],
   "source": [
    "sns.histplot(df.Start_Time.dt.dayofweek, bins=7,stat='density')"
   ]
  },
  {
   "cell_type": "code",
   "execution_count": null,
   "id": "e48b40d0-444c-49f1-b8f1-9994ebfb6235",
   "metadata": {},
   "outputs": [],
   "source": [
    "sundays_start_time = df.Start_Time[df.Start_Time.dt.dayofweek == 6]"
   ]
  },
  {
   "cell_type": "code",
   "execution_count": null,
   "id": "4e773509-b069-4729-8d1e-62116e3e2593",
   "metadata": {},
   "outputs": [],
   "source": [
    "sns.histplot(sundays_start_time.dt.hour, bins=24, stat='density')"
   ]
  },
  {
   "cell_type": "code",
   "execution_count": null,
   "id": "b9b39ced-ba4e-45d7-bef9-9d32ba669b1c",
   "metadata": {},
   "outputs": [],
   "source": [
    "saturdays_start_time = df.Start_Time[df.Start_Time.dt.dayofweek == 5]\n",
    "sns.histplot(saturdays_start_time.dt.hour, bins=24, stat='density')"
   ]
  },
  {
   "cell_type": "code",
   "execution_count": null,
   "id": "77954df3-6d0d-49b7-bb72-0e0562dbb51e",
   "metadata": {},
   "outputs": [],
   "source": [
    "mondays_start_time = df.Start_Time[df.Start_Time.dt.dayofweek == 0]\n",
    "sns.histplot(mondays_start_time.dt.hour, bins=24, stat='density')"
   ]
  },
  {
   "cell_type": "code",
   "execution_count": null,
   "id": "20cf4e22-a193-4127-8ebc-fc7309934f11",
   "metadata": {},
   "outputs": [],
   "source": [
    "wednesdays_start_time = df.Start_Time[df.Start_Time.dt.dayofweek == 2]\n",
    "sns.histplot(wednesdays_start_time.dt.hour, bins=24, stat='density')"
   ]
  },
  {
   "cell_type": "code",
   "execution_count": null,
   "id": "aa584740-e9b1-4bf1-bae1-c660d09a3b48",
   "metadata": {},
   "outputs": [],
   "source": [
    "sns.histplot(df.Start_Time.dt.month,bins = 12, stat ='density')"
   ]
  },
  {
   "cell_type": "code",
   "execution_count": null,
   "id": "0e468a9a-9b08-4cb9-b069-031a385924ed",
   "metadata": {},
   "outputs": [],
   "source": [
    "df_particular_year = df[df.Start_Time.dt.year == 2016]\n",
    "sns.histplot(df_particular_year.Start_Time.dt.month, bins=12,stat='density')"
   ]
  },
  {
   "cell_type": "code",
   "execution_count": null,
   "id": "252392cf-a909-42c3-92bb-9898567a811a",
   "metadata": {},
   "outputs": [],
   "source": [
    "df_particular_year = df[df.Start_Time.dt.year == 2017]\n",
    "sns.histplot(df_particular_year.Start_Time.dt.month, bins=12,stat='density')"
   ]
  },
  {
   "cell_type": "code",
   "execution_count": null,
   "id": "d3e4d36f-a423-495e-9d82-800344cff17c",
   "metadata": {},
   "outputs": [],
   "source": [
    "df_particular_year = df[df.Start_Time.dt.year == 2018]\n",
    "sns.histplot(df_particular_year.Start_Time.dt.month, bins=12,stat='density')"
   ]
  },
  {
   "cell_type": "code",
   "execution_count": null,
   "id": "0a5f9068-e814-447b-8ddb-7e0d29830136",
   "metadata": {},
   "outputs": [],
   "source": [
    "df_particular_year = df[df.Start_Time.dt.year == 2019]\n",
    "sns.histplot(df_particular_year.Start_Time.dt.month, bins=12,stat='density')"
   ]
  },
  {
   "cell_type": "code",
   "execution_count": null,
   "id": "aa4cd786-e3f0-4a06-8429-89e213ec633b",
   "metadata": {},
   "outputs": [],
   "source": [
    "df_particular_year = df[df.Start_Time.dt.year == 2020]\n",
    "sns.histplot(df_particular_year.Start_Time.dt.month, bins=12,stat='density')"
   ]
  },
  {
   "cell_type": "code",
   "execution_count": null,
   "id": "9edec07c-d1e6-4777-8b5a-402d7c040f02",
   "metadata": {},
   "outputs": [],
   "source": [
    "df.Start_Lat"
   ]
  },
  {
   "cell_type": "code",
   "execution_count": null,
   "id": "840a8df9-b5c8-45b2-95e4-ffa0907d4a55",
   "metadata": {},
   "outputs": [],
   "source": [
    "df.Start_Lng"
   ]
  },
  {
   "cell_type": "code",
   "execution_count": null,
   "id": "7d1d1acd-fba8-497d-83e4-f3c594869189",
   "metadata": {},
   "outputs": [],
   "source": [
    "import matplotlib.pyplot as plt"
   ]
  },
  {
   "cell_type": "code",
   "execution_count": null,
   "id": "67670a19-bf2c-4499-855a-010da41b3faa",
   "metadata": {},
   "outputs": [],
   "source": [
    "plt.figure(figsize=(15,10))\n",
    "sns.scatterplot(y=df.Start_Lat, x=df.Start_Lng)"
   ]
  },
  {
   "cell_type": "code",
   "execution_count": null,
   "id": "5f8e8dce-fb9d-4801-8589-744567c65615",
   "metadata": {},
   "outputs": [],
   "source": [
    "df.info()"
   ]
  },
  {
   "cell_type": "code",
   "execution_count": null,
   "id": "953ee29e-0d74-40ef-b927-e325f7c9330e",
   "metadata": {},
   "outputs": [],
   "source": [
    "plt.figure(figsize=(20,15))\n",
    "sns.scatterplot(y=df.Start_Lat, x=df.Start_Lng, hue=df.State)"
   ]
  },
  {
   "cell_type": "code",
   "execution_count": null,
   "id": "583dfcd2-24b2-40bb-b2b4-0e672b7d28c8",
   "metadata": {},
   "outputs": [],
   "source": [
    "plt.figure(figsize=(20,15))\n",
    "sns.scatterplot(y=df.Start_Lat, x=df.Start_Lng, hue=df.Severity)"
   ]
  },
  {
   "cell_type": "code",
   "execution_count": null,
   "id": "ce002138-59c1-474a-8b07-781ee1f73efb",
   "metadata": {},
   "outputs": [],
   "source": [
    "df.State.value_counts()[:25]"
   ]
  },
  {
   "cell_type": "code",
   "execution_count": null,
   "id": "3ef35fec-79cc-4e71-b496-efe73328d216",
   "metadata": {},
   "outputs": [],
   "source": [
    "pie, ax = plt.subplots(figsize=[15,15])\n",
    "labels = df.State.value_counts().keys()\n",
    "plt.pie(x=df.State.value_counts(), autopct=\"%.1f%%\",explode=[0.1]*len(df.State.value_counts()),labels=labels, pctdistance=0.5)\n",
    "plt.show();"
   ]
  },
  {
   "cell_type": "code",
   "execution_count": null,
   "id": "89f2171b-8a81-47ab-8f74-4c58e2b3ac48",
   "metadata": {},
   "outputs": [],
   "source": [
    "severe_accidents_4 = df[df.Severity==4].State.value_counts()\n",
    "severe_accidents_3 = df[df.Severity==3].State.value_counts()\n",
    "severe_accidents_2 = df[df.Severity==2].State.value_counts()\n",
    "severe_accidents_1 = df[df.Severity==1].State.value_counts()"
   ]
  },
  {
   "cell_type": "code",
   "execution_count": null,
   "id": "214a3811-6f79-4e4d-b7f3-104bc62870b4",
   "metadata": {},
   "outputs": [],
   "source": [
    "fig,ax1 = plt.subplots(figsize=[25,25])\n",
    "ax1 = plt.subplot2grid((2,2),(0,0))\n",
    "labels = severe_accidents_1.keys()\n",
    "plt.pie(x=severe_accidents_1,autopct=\"%.1f%%\",explode=[0.1]*len(severe_accidents_1),labels=labels,pctdistance=0.5)\n",
    "plt.title(\"Least Sever Accidents: Severity=1\",fontsize=20)\n",
    "\n",
    "ax1 = plt.subplot2grid((2,2),(0,1))\n",
    "labels = severe_accidents_2.keys()\n",
    "plt.pie(x=severe_accidents_2,autopct=\"%.1f%%\",explode=[0.1]*len(severe_accidents_2),labels=labels,pctdistance=0.5)\n",
    "plt.title(\"Least Sever Accidents: Severity=2\",fontsize=20)\n",
    "\n",
    "ax1 = plt.subplot2grid((2,2),(1,0))\n",
    "labels = severe_accidents_3.keys()\n",
    "plt.pie(x=severe_accidents_3,autopct=\"%.1f%%\",explode=[0.1]*len(severe_accidents_3),labels=labels,pctdistance=0.5)\n",
    "plt.title(\"Least Sever Accidents: Severity=3\",fontsize=20)\n",
    "\n",
    "ax1 = plt.subplot2grid((2,2),(1,1))\n",
    "labels = severe_accidents_4.keys()\n",
    "plt.pie(x=severe_accidents_4,autopct=\"%.1f%%\",explode=[0.1]*len(severe_accidents_4),labels=labels,pctdistance=0.5)\n",
    "plt.title(\"Least Sever Accidents: Severity=4\",fontsize=20)"
   ]
  },
  {
   "cell_type": "code",
   "execution_count": null,
   "id": "12f0d7ef-e485-4953-96a2-87f119bd6b14",
   "metadata": {},
   "outputs": [],
   "source": [
    "list(zip(list(df.Start_Lat),list(df.Start_Lng)))"
   ]
  },
  {
   "cell_type": "code",
   "execution_count": null,
   "id": "f30c7eff-226a-4d97-ac55-66203615cd34",
   "metadata": {},
   "outputs": [],
   "source": [
    "import random "
   ]
  },
  {
   "cell_type": "code",
   "execution_count": null,
   "id": "4cc42b86-7b3b-4088-9f0f-02690bb332e3",
   "metadata": {},
   "outputs": [],
   "source": [
    "df_sample = df.sample(10000)"
   ]
  },
  {
   "cell_type": "code",
   "execution_count": null,
   "id": "2f6249d5-024f-4e74-8c32-284c3f01f47b",
   "metadata": {},
   "outputs": [],
   "source": [
    "df_sample.Start_Lat"
   ]
  },
  {
   "cell_type": "code",
   "execution_count": null,
   "id": "7c505a6c-f07c-4bfe-ae93-285fde025795",
   "metadata": {},
   "outputs": [],
   "source": [
    "df.columns"
   ]
  },
  {
   "cell_type": "code",
   "execution_count": null,
   "id": "431b8959-7f24-45f7-a2c8-b5995b5e8357",
   "metadata": {},
   "outputs": [],
   "source": [
    "df['Visibility(mi)']"
   ]
  },
  {
   "cell_type": "code",
   "execution_count": null,
   "id": "28135821-7d94-4e79-aec9-da0c03b402d9",
   "metadata": {},
   "outputs": [],
   "source": [
    "df['Visibility(mi)'].value_counts()"
   ]
  },
  {
   "cell_type": "code",
   "execution_count": null,
   "id": "f0745c40-9252-45a4-9dc6-746b0a4c09e3",
   "metadata": {},
   "outputs": [],
   "source": [
    "df[(df.Severity == 4)&(df['Visibility(mi)'] <= 10)]"
   ]
  },
  {
   "cell_type": "code",
   "execution_count": null,
   "id": "9605c350-311c-4949-bbf8-e0dedc8c63e7",
   "metadata": {},
   "outputs": [],
   "source": [
    "(len(df[df['Visibility(mi)'] <= 2]) / len(df) ) * 100"
   ]
  },
  {
   "cell_type": "code",
   "execution_count": null,
   "id": "28150510-ff5f-4c1e-96a7-e889b42537b8",
   "metadata": {},
   "outputs": [],
   "source": [
    "(len(df[(df['Visibility(mi)'] <= 2) & (df['Severity'] ==4)]) / len(df))"
   ]
  },
  {
   "cell_type": "code",
   "execution_count": null,
   "id": "a6b7a714-2258-48b8-a11e-ec3deca99d27",
   "metadata": {},
   "outputs": [],
   "source": [
    "weather = df.Weather_Condition.value_counts()"
   ]
  },
  {
   "cell_type": "code",
   "execution_count": null,
   "id": "c645dcf3-0bdd-4f50-a966-1c6e2fc5347f",
   "metadata": {},
   "outputs": [],
   "source": [
    "weather[weather > 1000]"
   ]
  },
  {
   "cell_type": "code",
   "execution_count": null,
   "id": "c0e2338e-f239-4acc-80f0-5972241a505f",
   "metadata": {},
   "outputs": [],
   "source": [
    "import matplotlib.pyplot as plt"
   ]
  },
  {
   "cell_type": "code",
   "execution_count": null,
   "id": "05cd5f25-04ea-4cbe-a58e-160b18ecaa79",
   "metadata": {},
   "outputs": [],
   "source": [
    "pie, ax = plt.subplots(figsize=[15,15])\n",
    "labels = weather[weather > 1000].keys()\n",
    "plt.pie(x=weather[weather > 1000], autopct=\"%.1f%%\",explode=[0.1]*len(weather[weather > 1000]), labels=labels, pctdistance=0.5)\n",
    "plt.show();"
   ]
  },
  {
   "cell_type": "code",
   "execution_count": null,
   "id": "bbd549a5-bd5e-457a-8dfa-3b1de6259808",
   "metadata": {},
   "outputs": [],
   "source": [
    "df['Temperature(F)']"
   ]
  },
  {
   "cell_type": "code",
   "execution_count": null,
   "id": "06bbd642-7bd2-43d5-9979-147f63a8986e",
   "metadata": {},
   "outputs": [],
   "source": [
    "df['Temperature(F)'].value_counts()"
   ]
  },
  {
   "cell_type": "code",
   "execution_count": null,
   "id": "33ebf0fc-559a-43d5-90bb-cc62d6357f82",
   "metadata": {},
   "outputs": [],
   "source": [
    "temperature = df['Temperature(F)'].value_counts()"
   ]
  },
  {
   "cell_type": "code",
   "execution_count": null,
   "id": "c5c827ea-2a23-415e-a34d-e0d705f28be5",
   "metadata": {},
   "outputs": [],
   "source": [
    "temperature.index"
   ]
  },
  {
   "cell_type": "code",
   "execution_count": null,
   "id": "359f36b7-472e-461b-ac04-9e6f13f394bf",
   "metadata": {},
   "outputs": [],
   "source": [
    "temperature.values"
   ]
  },
  {
   "cell_type": "code",
   "execution_count": null,
   "id": "032eca12-ae44-417b-899c-f8c8d96e1d59",
   "metadata": {},
   "outputs": [],
   "source": [
    "import seaborn as sns"
   ]
  },
  {
   "cell_type": "code",
   "execution_count": null,
   "id": "1ebe9a4d-0be4-4608-9edc-3ddd230e60d0",
   "metadata": {},
   "outputs": [],
   "source": [
    "plt.figure(figsize=(10,5))\n",
    "sns.scatterplot(x=temperature.index, y=temperature.values)\n",
    "plt.show()"
   ]
  },
  {
   "cell_type": "code",
   "execution_count": null,
   "id": "585df60a-c9c5-4514-955b-905adebeb6f7",
   "metadata": {},
   "outputs": [],
   "source": [
    "df.Sunrise_Sunset.value_counts()"
   ]
  },
  {
   "cell_type": "code",
   "execution_count": null,
   "id": "ae96e4ae-e580-4eaa-a2e1-0190e99011a5",
   "metadata": {},
   "outputs": [],
   "source": [
    "pie, ax =plt.subplots(figsize=[6,6])\n",
    "labels= df.Sunrise_Sunset.value_counts().keys()\n",
    "plt.pie(x=df.Sunrise_Sunset.value_counts(),autopct=\"%.1f%%\",explode=[0.01]*len(df.Sunrise_Sunset.value_counts()),labels=labels,pctdistance=0.5)\n",
    "plt.title(\"Day/Night Distribution of accidents\")"
   ]
  },
  {
   "cell_type": "code",
   "execution_count": null,
   "id": "eb256343-9cc4-4da6-954f-8575579f2ac4",
   "metadata": {},
   "outputs": [],
   "source": [
    "df.columns"
   ]
  },
  {
   "cell_type": "code",
   "execution_count": null,
   "id": "bbde5ddb-57a3-40de-a097-ce22b5ea04c5",
   "metadata": {},
   "outputs": [],
   "source": [
    "amenity = df.Amenity.groupby(df.Severity).value_counts()\n",
    "amenity"
   ]
  },
  {
   "cell_type": "code",
   "execution_count": null,
   "id": "a0f8650f-c10b-4fb5-97bf-659263e68833",
   "metadata": {},
   "outputs": [],
   "source": [
    "amenity.index"
   ]
  },
  {
   "cell_type": "code",
   "execution_count": null,
   "id": "41d450e3-f550-4c79-ad4b-b857abf2233e",
   "metadata": {},
   "outputs": [],
   "source": [
    "no_exit = df.No_Exit.groupby(df.Severity).value_counts()\n",
    "no_exit"
   ]
  },
  {
   "cell_type": "code",
   "execution_count": null,
   "id": "6b2b3ecb-9d1c-4ebe-b8c8-aafd839ecc96",
   "metadata": {},
   "outputs": [],
   "source": [
    "railway=df.Railway.groupby(df.Severity).value_counts()\n",
    "railway"
   ]
  },
  {
   "cell_type": "code",
   "execution_count": null,
   "id": "676b8a9c-6be7-49ba-8682-38e10a3ca2f3",
   "metadata": {},
   "outputs": [],
   "source": [
    "traffic_calming = df.Traffic_Calming.groupby(df.Severity).value_counts()\n",
    "traffic_calming"
   ]
  },
  {
   "cell_type": "code",
   "execution_count": null,
   "id": "2912d725-b9d5-4213-a155-08a9681d2590",
   "metadata": {},
   "outputs": [],
   "source": [
    "stop = df.Stop.groupby(df.Severity).value_counts()\n",
    "stop"
   ]
  },
  {
   "cell_type": "code",
   "execution_count": null,
   "id": "9a05c891-517a-4e47-aec7-85ae1b048aae",
   "metadata": {},
   "outputs": [],
   "source": [
    "traffic_signal = df.Traffic_Signal.groupby(df.Severity).value_counts()\n",
    "traffic_signal"
   ]
  },
  {
   "cell_type": "code",
   "execution_count": null,
   "id": "6c164c10-ca1c-4134-a36a-82b28e154bc6",
   "metadata": {},
   "outputs": [],
   "source": [
    "give_way = df.Give_Way.groupby(df.Severity).value_counts()\n",
    "give_way"
   ]
  },
  {
   "cell_type": "code",
   "execution_count": null,
   "id": "dc6c9ab2-a4c0-4425-a719-e8110b660ed9",
   "metadata": {},
   "outputs": [],
   "source": [
    "bump=df.Bump.groupby(df.Severity).value_counts()\n",
    "bump"
   ]
  },
  {
   "cell_type": "code",
   "execution_count": null,
   "id": "d3805a7f-d726-40bb-9b48-b5fb00bf0c37",
   "metadata": {},
   "outputs": [],
   "source": [
    "crossing = df.Crossing.groupby(df.Severity).value_counts()\n",
    "crossing"
   ]
  },
  {
   "cell_type": "code",
   "execution_count": null,
   "id": "62884600-2045-4bc9-a92d-0e2b08d5f4d4",
   "metadata": {},
   "outputs": [],
   "source": [
    "df.Turning_Loop.value_counts()"
   ]
  },
  {
   "cell_type": "code",
   "execution_count": null,
   "id": "51143ccc-2687-4410-9848-4046538270e6",
   "metadata": {},
   "outputs": [],
   "source": [
    "fig, ax = plt.subplots(3,3, figsize=(20,20))\n",
    "\n",
    "crossing.unstack().plot(kind='bar',ax=ax[0,0],title=\"Crossing\")\n",
    "bump.unstack().plot(kind='bar',ax=ax[0,1],title=\"Bump\")\n",
    "amenity.unstack().plot(kind='bar',ax=ax[0,2],title=\"Amenity\")\n",
    "give_way.unstack().plot(kind='bar',ax=ax[1,0],title=\"Give Way\")\n",
    "traffic_signal.unstack().plot(kind='bar',ax=ax[1,1],title=\"Traffic Signal\")\n",
    "stop.unstack().plot(kind='bar',ax=ax[1,2],title=\"Stop\")\n",
    "no_exit.unstack().plot(kind='bar',ax=ax[2,0],title=\"No Exit\")\n",
    "traffic_calming.unstack().plot(kind='bar',ax=ax[2,1],title=\"Traffic Calming\")\n",
    "railway.unstack().plot(kind='bar',ax=ax[2,2],title=\"Railway\")"
   ]
  },
  {
   "cell_type": "code",
   "execution_count": null,
   "id": "00e8f94e-89df-44f8-a2e5-d07df182fb46",
   "metadata": {},
   "outputs": [],
   "source": [
    "null_cols = [i for i in data.columns if data[i].isnull().any()]\n",
    "print(null_cols)\n"
   ]
  },
  {
   "cell_type": "code",
   "execution_count": null,
   "id": "80e10e17-e5b8-476b-a08f-2898652411db",
   "metadata": {},
   "outputs": [],
   "source": [
    "mn.matrix(data[null_cols]);"
   ]
  },
  {
   "cell_type": "code",
   "execution_count": null,
   "id": "1afda0c6-c7e2-4a9f-8498-5355f02e9065",
   "metadata": {},
   "outputs": [],
   "source": [
    "new_data_a = data.drop(columns=[\"End_Lng\",\"End_Lat\",\"Number\"],axis=0)"
   ]
  },
  {
   "cell_type": "code",
   "execution_count": null,
   "id": "b5162445-2f0e-42f1-a440-e6ef136ad817",
   "metadata": {},
   "outputs": [],
   "source": [
    "new_data_b= new_data_a.dropna(subset = ['Visibility(mi)','Weather_Condition','Humidity(%)','Temperature(F)','Wind_Direction','Pressure(in)', 'Visibility(mi)', 'Wind_Direction',\n",
    "       'Wind_Speed(mph)', 'Precipitation(in)', 'Weather_Condition', 'Amenity',\n",
    "       'Bump', 'Crossing', 'Give_Way', 'Junction', 'No_Exit', 'Railway',\n",
    "       'Roundabout', 'Station', 'Stop', 'Traffic_Calming', 'Traffic_Signal',\n",
    "       'Turning_Loop', 'Sunrise_Sunset', 'Civil_Twilight', 'Nautical_Twilight',\n",
    "       'Astronomical_Twilight'],\n",
    "      dtype='object')"
   ]
  },
  {
   "cell_type": "code",
   "execution_count": null,
   "id": "1228444e-5a41-44f0-b2d7-b37d71063fd9",
   "metadata": {},
   "outputs": [],
   "source": [
    "final_data = new_data_b.drop(columns = 'ID' , axis=0)"
   ]
  },
  {
   "cell_type": "code",
   "execution_count": null,
   "id": "b7f23755-a834-437c-abbf-f18e54935b37",
   "metadata": {},
   "outputs": [],
   "source": [
    "final_data.isnull().sum()"
   ]
  },
  {
   "cell_type": "code",
   "execution_count": null,
   "id": "a75786aa-ae77-4348-9f49-4e57fe4aa47a",
   "metadata": {},
   "outputs": [],
   "source": [
    "state_counts = final_data[\"State\"].value_counts()\n",
    "fig = go.Figure(data=go.Choropleth(locations=state_counts.index, z=state_counts.values.astype(float), locationmode=\"USA-states\", colorscale=\"turbo\"))\n",
    "fig.update_layout(title_text=\"Number of Accidents for each State\", geo_scope=\"usa\")\n",
    "fig.show()"
   ]
  },
  {
   "cell_type": "code",
   "execution_count": null,
   "id": "0da7dbb9-77f9-45e5-b5fe-3d4066e012b1",
   "metadata": {},
   "outputs": [],
   "source": [
    "print(\"State Code: \", final_data.State.unique())\n",
    "print(\"Total No. of State in Dataset: \", len(final_data.State.unique()))"
   ]
  },
  {
   "cell_type": "code",
   "execution_count": null,
   "id": "c27cd53c-123b-44aa-a08f-1bd9067ba6c1",
   "metadata": {},
   "outputs": [],
   "source": [
    "fig, ax = plt.subplots(figsize = (20,5))\n",
    "c = sns.countplot(x=\"State\", data=final_data, orient = 'v', palette = \"crest_r\", order = final_data['State'].value_counts().index)\n",
    "c.set_title(\"States with No. of Accidents\");"
   ]
  },
  {
   "cell_type": "code",
   "execution_count": null,
   "id": "f6b296e5-05e9-4be5-8b65-ed8f672e7439",
   "metadata": {},
   "outputs": [],
   "source": [
    "fig, ax = plt.subplots(figsize = (20,5))\n",
    "c = sns.countplot(x=\"City\", data=final_data, order=final_data.City.value_counts().iloc[:50].index, orient = 'v', palette = \"crest_r\")\n",
    "c.set_title(\"Top 50 Cities with Highest No. of Accidents\")\n",
    "c.set_xticklabels(c.get_xticklabels(), rotation=90)\n",
    "plt.show()"
   ]
  },
  {
   "cell_type": "code",
   "execution_count": null,
   "id": "8d9fc00d-1e6b-48fa-9fc5-c222124e2057",
   "metadata": {},
   "outputs": [],
   "source": [
    "final_data.Start_Time = pd.to_datetime(final_data.Start_Time)\n",
    "final_data.Start_Time[0]"
   ]
  },
  {
   "cell_type": "code",
   "execution_count": null,
   "id": "dc2a2209-4ab4-40b6-9063-5842864c5f68",
   "metadata": {},
   "outputs": [],
   "source": [
    "final_data['Month'] = final_data['Start_Time'].dt.month\n",
    "final_data['Year'] = final_data['Start_Time'].dt.year\n",
    "final_data['Hour'] = final_data['Start_Time'].dt.hour\n",
    "final_data['Weekday'] = final_data['Start_Time'].dt.weekday\n",
    " \n",
    "data_2016 = final_data[final_data.Start_Time.dt.year == 2016]\n",
    "data_2017 = final_data[final_data.Start_Time.dt.year == 2017]\n",
    "data_2018 = final_data[final_data.Start_Time.dt.year == 2018]\n",
    "data_2019 = final_data[final_data.Start_Time.dt.year == 2019]\n",
    "data_2020 = final_data[final_data.Start_Time.dt.year == 2020]\n",
    "data_2017_2019 = final_data[(final_data[\"Year\"] >= 2017) & (final_data[\"Year\"] <= 2019)]"
   ]
  },
  {
   "cell_type": "code",
   "execution_count": null,
   "id": "bbf79012-4f12-49be-b28e-ba61abdbf2aa",
   "metadata": {},
   "outputs": [],
   "source": [
    "fig, ax = plt.subplots(figsize = (10,5))\n",
    "c = sns.countplot(x=\"Year\", data=final_data, orient = 'v', palette = \"crest\")\n",
    "plt.annotate('Data Not Available',xy=(-0.4,500000), fontsize=11)\n",
    "c.set_title(\"No. of Accidents in Year\")\n",
    "for i in ax.patches:\n",
    "    count = '{:,.0f}'.format(i.get_height())\n",
    "    x = i.get_x()+i.get_width()-0.60\n",
    "    y = i.get_height()+10000\n",
    "    ax.annotate(count, (x, y))\n",
    "plt.show()"
   ]
  },
  {
   "cell_type": "code",
   "execution_count": null,
   "id": "872b714c-d752-4881-815b-9842a9285f67",
   "metadata": {},
   "outputs": [],
   "source": [
    "fig, ax = plt.subplots(figsize = (10,5))\n",
    "c = sns.countplot(x=\"Month\", data=data_2016, orient = 'v', palette = \"crest\")\n",
    "plt.annotate('Data Not Available',xy=(2,50000), fontsize=11)\n",
    "c.set_title(\"No. of Accidents in Months of Year 2016\")\n",
    "plt.show()"
   ]
  },
  {
   "cell_type": "code",
   "execution_count": null,
   "id": "53d099ef-7d37-4ff0-8a81-a0f01af6038c",
   "metadata": {},
   "outputs": [],
   "source": [
    "fig, ax = plt.subplots(figsize = (10,5))\n",
    "c = sns.countplot(x=\"Month\", data=data_2016, orient = 'v', palette = \"crest\")\n",
    "plt.annotate('Data Not Available',xy=(2,50000), fontsize=11)\n",
    "c.set_title(\"No. of Accidents in Months of Year 2016\")\n",
    "plt.show()"
   ]
  },
  {
   "cell_type": "code",
   "execution_count": null,
   "id": "d6e22af3-c353-4f23-abc2-0afbe608b50a",
   "metadata": {},
   "outputs": [],
   "source": [
    "fig, ax = plt.subplots(figsize = (10,5))\n",
    "c = sns.countplot(x=\"Month\", data=data_2020, orient = 'v', palette = \"crest\")\n",
    "plt.annotate('Covid-19 Pandemic',xy=(2,150000), fontsize=12)\n",
    "plt.annotate(\"[\",xy=(0,0),xytext=(1.9,150000),arrowprops={'arrowstyle':'-|>'}, fontsize=12)\n",
    "plt.annotate(\"]\",xy=(10,0),xytext=(4.5,150000),arrowprops={'arrowstyle':'-|>'}, fontsize=12)\n",
    "c.set_title(\"No. of Accidents in Month of Year 2020\")\n",
    "plt.show()"
   ]
  },
  {
   "cell_type": "code",
   "execution_count": null,
   "id": "a145f2e1-a597-4b2f-8386-9a336076ec24",
   "metadata": {},
   "outputs": [],
   "source": []
  }
 ],
 "metadata": {
  "kernelspec": {
   "display_name": "Python 3 (ipykernel)",
   "language": "python",
   "name": "python3"
  },
  "language_info": {
   "codemirror_mode": {
    "name": "ipython",
    "version": 3
   },
   "file_extension": ".py",
   "mimetype": "text/x-python",
   "name": "python",
   "nbconvert_exporter": "python",
   "pygments_lexer": "ipython3",
   "version": "3.12.5"
  }
 },
 "nbformat": 4,
 "nbformat_minor": 5
}
